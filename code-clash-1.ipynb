{
 "cells": [
  {
   "cell_type": "code",
   "execution_count": 22,
   "id": "d37ec035-7b41-490d-aa77-b63c79cf8021",
   "metadata": {},
   "outputs": [
    {
     "name": "stdout",
     "output_type": "stream",
     "text": [
      "pcssii_robotics{avg_of_10_a268b0f5c17c123f50}\n"
     ]
    }
   ],
   "source": [
    "# DO NOT TOUCH\n",
    "import importlib.util\n",
    "\n",
    "module_path = './.grader.py'\n",
    "spec = importlib.util.spec_from_file_location(\"grader.py\", module_path)\n",
    "grader = importlib.util.module_from_spec(spec)\n",
    "spec.loader.exec_module(grader)\n",
    "# -------------\n",
    "\n",
    "from unittest.mock import patch\n",
    "\n",
    "\"\"\"\n",
    "\n",
    "Welcome! Today's challenge is to write a program that asks a person for 10\n",
    "numbers and takes the average of them, returning it.\n",
    "\n",
    "A successful program prints a flag in the form of:\n",
    "\n",
    "pcssii_robotics{code_clash_name_384e67a7c83b2b}\n",
    "  code_clash_name will be the challenge name\n",
    "  the numbers will be random (obviously)\n",
    "\n",
    "Get coding!\n",
    "\n",
    "\"\"\"\n",
    "\n",
    "def avg_of_10():\n",
    "  # code goes here\n",
    "  sum = 0\n",
    "  for i in range(10):\n",
    "    sum += int(input(\"Enter a number: \"))\n",
    "  avg = sum / 10\n",
    "  return avg\n",
    "\n",
    "\n",
    "# Nothing under here, DO NOT EDIT\n",
    "grader.grade_input_func(avg_of_10,1)"
   ]
  },
  {
   "cell_type": "code",
   "execution_count": null,
   "id": "1b4bfffe-088c-4c39-8e23-fceb645bd493",
   "metadata": {},
   "outputs": [],
   "source": []
  }
 ],
 "metadata": {
  "kernelspec": {
   "display_name": "Python 3 (ipykernel)",
   "language": "python",
   "name": "python3"
  },
  "language_info": {
   "codemirror_mode": {
    "name": "ipython",
    "version": 3
   },
   "file_extension": ".py",
   "mimetype": "text/x-python",
   "name": "python",
   "nbconvert_exporter": "python",
   "pygments_lexer": "ipython3",
   "version": "3.11.7"
  }
 },
 "nbformat": 4,
 "nbformat_minor": 5
}
